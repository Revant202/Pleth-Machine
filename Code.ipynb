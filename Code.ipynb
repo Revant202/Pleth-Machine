{
  "cells": [
    {
      "cell_type": "code",
      "execution_count": null,
      "metadata": {
        "colab": {
          "background_save": true
        },
        "id": "D7Yrn7BrSaki"
      },
      "outputs": [],
      "source": [
        "import requests\n",
        "from os import listdir, mkdir\n",
        "from os.path import isdir, isfile, join\n",
        "import numpy as np\n",
        "import pandas as pd\n",
        "from scipy.stats import skew, kurtosis\n",
        "from tqdm import tqdm"
      ]
    },
    {
      "cell_type": "code",
      "execution_count": null,
      "metadata": {
        "colab": {
          "background_save": true
        },
        "id": "-eobR1ziSW5p"
      },
      "outputs": [],
      "source": [
        "base = 'https://archive.physionet.org/physiobank/database/bidmc/bidmc_csv/'\n",
        "endings = ['_Breaths.csv','_Numerics.csv','_Signals.csv','_Fix.txt']\n",
        "\n",
        "files = {}\n",
        "\n",
        "nums = []\n",
        "for n in range(1,54):\n",
        "    if n<10:\n",
        "        nums.append('0'+str(n))\n",
        "    else:\n",
        "        nums.append(str(n))\n",
        "        \n",
        "for n in nums:\n",
        "    files[n] = ['bidmc_'+n+ending for ending in endings]"
      ]
    },
    {
      "cell_type": "code",
      "execution_count": null,
      "metadata": {
        "colab": {
          "background_save": true,
          "base_uri": "https://localhost:8080/"
        },
        "id": "11_IxExot5AV",
        "outputId": "aaadb03a-e882-45fd-d91d-38d29f994090"
      },
      "outputs": [
        {
          "name": "stderr",
          "output_type": "stream",
          "text": [
            "100%|██████████| 53/53 [00:00<00:00, 69403.09it/s]\n"
          ]
        }
      ],
      "source": [
        "csv = {}\n",
        "txt = {}\n",
        "for number in tqdm(files.keys()):\n",
        "    csv[number] = []\n",
        "    for f in files[number]:\n",
        "        if 'csv' in f:\n",
        "            csv[number].append(base+f)\n",
        "        else:\n",
        "            txt[number] = f"
      ]
    },
    {
      "cell_type": "code",
      "execution_count": null,
      "metadata": {
        "colab": {
          "background_save": true,
          "base_uri": "https://localhost:8080/"
        },
        "id": "MY-Wm8wet-JU",
        "outputId": "be966ae9-f380-4c78-a689-dfa584aa6275"
      },
      "outputs": [
        {
          "name": "stderr",
          "output_type": "stream",
          "text": [
            "100%|██████████| 53/53 [03:59<00:00,  4.52s/it]\n"
          ]
        }
      ],
      "source": [
        "for f in tqdm(files.keys()):\n",
        "    for n in files[f]:\n",
        "        if '.txt' not in n:\n",
        "            df = pd.read_csv(base+n)\n",
        "            if not isdir(\"csv\"):\n",
        "                mkdir(\"csv\")\n",
        "            df.to_csv('csv/'+n)"
      ]
    },
    {
      "cell_type": "code",
      "execution_count": null,
      "metadata": {
        "colab": {
          "background_save": true,
          "base_uri": "https://localhost:8080/"
        },
        "id": "dsHJur6wucZC",
        "outputId": "b1314045-4d28-417c-f992-8f4146d568d1"
      },
      "outputs": [
        {
          "name": "stderr",
          "output_type": "stream",
          "text": [
            "100%|██████████| 53/53 [00:49<00:00,  1.07it/s]\n"
          ]
        }
      ],
      "source": [
        "for n in tqdm(txt.keys()): \n",
        "    text = requests.get(base+txt[n])\n",
        "    text = text.text\n",
        "    if not isdir(\"txt\"):\n",
        "        mkdir(\"txt\")\n",
        "    with open('txt/'+txt[n], \"w\") as text_file:\n",
        "        text_file.write(text)"
      ]
    },
    {
      "cell_type": "code",
      "execution_count": null,
      "metadata": {
        "colab": {
          "background_save": true
        },
        "id": "2jS24yS1ujPk"
      },
      "outputs": [],
      "source": [
        "def make_dataframe(num):\n",
        "    signals= pd.read_csv('csv/bidmc_'+str(num)+'_Signals.csv',index_col=0)\n",
        "    signals['sec'] = signals['Time [s]'].apply(lambda x: int(np.floor(x)))\n",
        "    numerics = pd.read_csv('csv/bidmc_'+str(num)+'_Numerics.csv',index_col=0)\n",
        "    numerics.fillna(numerics.mean(),inplace=True) \n",
        "    numerics.rename(columns={'Time [s]':'sec'},inplace=True)\n",
        "    numerics.drop(' RESP',axis=1,inplace=True)\n",
        "    numerics['sec'] = numerics['sec'].apply(lambda x: int(x))\n",
        "    signals = signals[[' RESP', ' PLETH', ' V', ' AVR', ' II','sec','Time [s]']]\n",
        "    person = signals.merge(numerics,on='sec',how='outer')\n",
        "    Hz_125_cols = [' RESP', ' PLETH', ' V', ' AVR', ' II']\n",
        "    Min = person[Hz_125_cols+['sec']].groupby('sec').min()\n",
        "    Min.columns = [i+'_Min' for i in Min.columns]\n",
        "    Max = person[Hz_125_cols+['sec']].groupby('sec').max()\n",
        "    Max.columns = [i+'_Max' for i in Max.columns]\n",
        "    Mean = person[Hz_125_cols+['sec']].groupby('sec').mean()\n",
        "    Mean.columns = Mean.columns = [i+'_Mean' for i in Mean.columns]\n",
        "    Kurt = person[Hz_125_cols+['sec']].groupby('sec').agg(lambda x: kurtosis(x))\n",
        "    Kurt.columns = [i+'_Kurt' for i in Kurt.columns]\n",
        "    Skw = person[Hz_125_cols+['sec']].groupby('sec').agg(lambda x: skew(x))\n",
        "    Skw.columns = [i+'_Skw' for i in Skw.columns]\n",
        "    summary_frames = [Min,Max,Mean,Kurt,Skw]\n",
        "    one_sec_summary = pd.concat(summary_frames,axis=1).reset_index()\n",
        "    person = person.merge(one_sec_summary,on='sec',how='outer')\n",
        "    if not isdir(\"person_csvs\"):\n",
        "        mkdir(\"person_csvs\")\n",
        "    person.to_csv('person_csvs/person_'+str(num)+'.csv')"
      ]
    },
    {
      "cell_type": "code",
      "execution_count": null,
      "metadata": {
        "colab": {
          "background_save": true
        },
        "id": "0CazdftRunmf"
      },
      "outputs": [],
      "source": [
        "nums = []\n",
        "for n in range(1,54):\n",
        "    if n<10:\n",
        "        nums.append('0'+str(n))\n",
        "    else:\n",
        "        nums.append(str(n))"
      ]
    },
    {
      "cell_type": "code",
      "execution_count": null,
      "metadata": {
        "colab": {
          "background_save": true
        },
        "id": "PoM2e43Cutfi",
        "outputId": "e6b91a4f-2c2e-49eb-ad4b-b8b8dd03f59d"
      },
      "outputs": [
        {
          "name": "stdout",
          "output_type": "stream",
          "text": [
            "Ignoring person 09 due to error\n",
            "Ignoring person 15 due to error\n",
            "Ignoring person 30 due to error\n",
            "Ignoring person 38 due to error\n",
            "Ignoring person 39 due to error\n",
            "Ignoring person 41 due to error\n",
            "Ignoring person 47 due to error\n",
            "Ignoring person 49 due to error\n"
          ]
        }
      ],
      "source": [
        "for number in nums:\n",
        "    try:\n",
        "        make_dataframe(number)\n",
        "    except:\n",
        "        print(\"Ignoring person\", number, \"due to error\")"
      ]
    },
    {
      "cell_type": "code",
      "execution_count": null,
      "metadata": {
        "colab": {
          "background_save": true
        },
        "id": "HdLfbRZRvbuv",
        "outputId": "cc54a985-2404-43f5-8ddc-a805ac7ee027"
      },
      "outputs": [
        {
          "name": "stderr",
          "output_type": "stream",
          "text": [
            "100%|██████████| 45/45 [00:13<00:00,  3.27it/s]\n"
          ]
        },
        {
          "name": "stdout",
          "output_type": "stream",
          "text": [
            "(2700044, 35)\n"
          ]
        }
      ],
      "source": [
        "onlyfiles = [f for f in listdir('person_csvs') if isfile(join('person_csvs', f))]\n",
        "person_files = ['person_csvs/'+i for i in onlyfiles if 'person' in i]\n",
        "files = []\n",
        "for person in tqdm(person_files):\n",
        "    df = pd.read_csv(person,index_col=0)\n",
        "    files.append(df)\n",
        "\n",
        "df = pd.concat(files, axis=0, ignore_index=True)\n",
        "df.dropna(inplace=True)\n",
        "\n",
        "print(df.shape)"
      ]
    },
    {
      "cell_type": "code",
      "execution_count": null,
      "metadata": {
        "colab": {
          "background_save": true
        },
        "id": "SGbSUEBGvjvj"
      },
      "outputs": [],
      "source": [
        "df.to_csv('person_csvs/all_people.csv')"
      ]
    },
    {
      "cell_type": "code",
      "execution_count": null,
      "metadata": {
        "colab": {
          "background_save": true
        },
        "id": "Ef0OnLNlAlD1",
        "outputId": "b8db0168-1c97-4b32-a6c0-816e2a2b1e17"
      },
      "outputs": [
        {
          "data": {
            "text/html": [
              "\n",
              "  <div id=\"df-078a1f1c-4a4b-4146-8364-2bc111d8fab7\">\n",
              "    <div class=\"colab-df-container\">\n",
              "      <div>\n",
              "<style scoped>\n",
              "    .dataframe tbody tr th:only-of-type {\n",
              "        vertical-align: middle;\n",
              "    }\n",
              "\n",
              "    .dataframe tbody tr th {\n",
              "        vertical-align: top;\n",
              "    }\n",
              "\n",
              "    .dataframe thead th {\n",
              "        text-align: right;\n",
              "    }\n",
              "</style>\n",
              "<table border=\"1\" class=\"dataframe\">\n",
              "  <thead>\n",
              "    <tr style=\"text-align: right;\">\n",
              "      <th></th>\n",
              "      <th>RESP</th>\n",
              "      <th>PLETH</th>\n",
              "      <th>V</th>\n",
              "      <th>AVR</th>\n",
              "      <th>II</th>\n",
              "      <th>sec</th>\n",
              "      <th>Time [s]</th>\n",
              "      <th>HR</th>\n",
              "      <th>PULSE</th>\n",
              "      <th>SpO2</th>\n",
              "      <th>...</th>\n",
              "      <th>RESP_Kurt</th>\n",
              "      <th>PLETH_Kurt</th>\n",
              "      <th>V_Kurt</th>\n",
              "      <th>AVR_Kurt</th>\n",
              "      <th>II_Kurt</th>\n",
              "      <th>RESP_Skw</th>\n",
              "      <th>PLETH_Skw</th>\n",
              "      <th>V_Skw</th>\n",
              "      <th>AVR_Skw</th>\n",
              "      <th>II_Skw</th>\n",
              "    </tr>\n",
              "  </thead>\n",
              "  <tbody>\n",
              "    <tr>\n",
              "      <th>0</th>\n",
              "      <td>0.25806</td>\n",
              "      <td>0.59531</td>\n",
              "      <td>0.721570</td>\n",
              "      <td>0.859380</td>\n",
              "      <td>-0.058594</td>\n",
              "      <td>0</td>\n",
              "      <td>0.000</td>\n",
              "      <td>93.0</td>\n",
              "      <td>92.0</td>\n",
              "      <td>96.0</td>\n",
              "      <td>...</td>\n",
              "      <td>-1.400516</td>\n",
              "      <td>-1.087751</td>\n",
              "      <td>10.346496</td>\n",
              "      <td>13.159851</td>\n",
              "      <td>13.949057</td>\n",
              "      <td>-0.242583</td>\n",
              "      <td>0.482318</td>\n",
              "      <td>-3.057577</td>\n",
              "      <td>-3.335702</td>\n",
              "      <td>3.582299</td>\n",
              "    </tr>\n",
              "    <tr>\n",
              "      <th>1</th>\n",
              "      <td>0.26393</td>\n",
              "      <td>0.59042</td>\n",
              "      <td>0.696080</td>\n",
              "      <td>0.695310</td>\n",
              "      <td>-0.029297</td>\n",
              "      <td>0</td>\n",
              "      <td>0.008</td>\n",
              "      <td>93.0</td>\n",
              "      <td>92.0</td>\n",
              "      <td>96.0</td>\n",
              "      <td>...</td>\n",
              "      <td>-1.400516</td>\n",
              "      <td>-1.087751</td>\n",
              "      <td>10.346496</td>\n",
              "      <td>13.159851</td>\n",
              "      <td>13.949057</td>\n",
              "      <td>-0.242583</td>\n",
              "      <td>0.482318</td>\n",
              "      <td>-3.057577</td>\n",
              "      <td>-3.335702</td>\n",
              "      <td>3.582299</td>\n",
              "    </tr>\n",
              "    <tr>\n",
              "      <th>2</th>\n",
              "      <td>0.26979</td>\n",
              "      <td>0.58358</td>\n",
              "      <td>0.700000</td>\n",
              "      <td>0.455080</td>\n",
              "      <td>0.179690</td>\n",
              "      <td>0</td>\n",
              "      <td>0.016</td>\n",
              "      <td>93.0</td>\n",
              "      <td>92.0</td>\n",
              "      <td>96.0</td>\n",
              "      <td>...</td>\n",
              "      <td>-1.400516</td>\n",
              "      <td>-1.087751</td>\n",
              "      <td>10.346496</td>\n",
              "      <td>13.159851</td>\n",
              "      <td>13.949057</td>\n",
              "      <td>-0.242583</td>\n",
              "      <td>0.482318</td>\n",
              "      <td>-3.057577</td>\n",
              "      <td>-3.335702</td>\n",
              "      <td>3.582299</td>\n",
              "    </tr>\n",
              "    <tr>\n",
              "      <th>3</th>\n",
              "      <td>0.27566</td>\n",
              "      <td>0.57771</td>\n",
              "      <td>0.329410</td>\n",
              "      <td>0.041016</td>\n",
              "      <td>0.843750</td>\n",
              "      <td>0</td>\n",
              "      <td>0.024</td>\n",
              "      <td>93.0</td>\n",
              "      <td>92.0</td>\n",
              "      <td>96.0</td>\n",
              "      <td>...</td>\n",
              "      <td>-1.400516</td>\n",
              "      <td>-1.087751</td>\n",
              "      <td>10.346496</td>\n",
              "      <td>13.159851</td>\n",
              "      <td>13.949057</td>\n",
              "      <td>-0.242583</td>\n",
              "      <td>0.482318</td>\n",
              "      <td>-3.057577</td>\n",
              "      <td>-3.335702</td>\n",
              "      <td>3.582299</td>\n",
              "    </tr>\n",
              "    <tr>\n",
              "      <th>4</th>\n",
              "      <td>0.28250</td>\n",
              "      <td>0.57283</td>\n",
              "      <td>0.078431</td>\n",
              "      <td>-0.099609</td>\n",
              "      <td>1.318400</td>\n",
              "      <td>0</td>\n",
              "      <td>0.032</td>\n",
              "      <td>93.0</td>\n",
              "      <td>92.0</td>\n",
              "      <td>96.0</td>\n",
              "      <td>...</td>\n",
              "      <td>-1.400516</td>\n",
              "      <td>-1.087751</td>\n",
              "      <td>10.346496</td>\n",
              "      <td>13.159851</td>\n",
              "      <td>13.949057</td>\n",
              "      <td>-0.242583</td>\n",
              "      <td>0.482318</td>\n",
              "      <td>-3.057577</td>\n",
              "      <td>-3.335702</td>\n",
              "      <td>3.582299</td>\n",
              "    </tr>\n",
              "  </tbody>\n",
              "</table>\n",
              "<p>5 rows × 35 columns</p>\n",
              "</div>\n",
              "      <button class=\"colab-df-convert\" onclick=\"convertToInteractive('df-078a1f1c-4a4b-4146-8364-2bc111d8fab7')\"\n",
              "              title=\"Convert this dataframe to an interactive table.\"\n",
              "              style=\"display:none;\">\n",
              "        \n",
              "  <svg xmlns=\"http://www.w3.org/2000/svg\" height=\"24px\"viewBox=\"0 0 24 24\"\n",
              "       width=\"24px\">\n",
              "    <path d=\"M0 0h24v24H0V0z\" fill=\"none\"/>\n",
              "    <path d=\"M18.56 5.44l.94 2.06.94-2.06 2.06-.94-2.06-.94-.94-2.06-.94 2.06-2.06.94zm-11 1L8.5 8.5l.94-2.06 2.06-.94-2.06-.94L8.5 2.5l-.94 2.06-2.06.94zm10 10l.94 2.06.94-2.06 2.06-.94-2.06-.94-.94-2.06-.94 2.06-2.06.94z\"/><path d=\"M17.41 7.96l-1.37-1.37c-.4-.4-.92-.59-1.43-.59-.52 0-1.04.2-1.43.59L10.3 9.45l-7.72 7.72c-.78.78-.78 2.05 0 2.83L4 21.41c.39.39.9.59 1.41.59.51 0 1.02-.2 1.41-.59l7.78-7.78 2.81-2.81c.8-.78.8-2.07 0-2.86zM5.41 20L4 18.59l7.72-7.72 1.47 1.35L5.41 20z\"/>\n",
              "  </svg>\n",
              "      </button>\n",
              "      \n",
              "  <style>\n",
              "    .colab-df-container {\n",
              "      display:flex;\n",
              "      flex-wrap:wrap;\n",
              "      gap: 12px;\n",
              "    }\n",
              "\n",
              "    .colab-df-convert {\n",
              "      background-color: #E8F0FE;\n",
              "      border: none;\n",
              "      border-radius: 50%;\n",
              "      cursor: pointer;\n",
              "      display: none;\n",
              "      fill: #1967D2;\n",
              "      height: 32px;\n",
              "      padding: 0 0 0 0;\n",
              "      width: 32px;\n",
              "    }\n",
              "\n",
              "    .colab-df-convert:hover {\n",
              "      background-color: #E2EBFA;\n",
              "      box-shadow: 0px 1px 2px rgba(60, 64, 67, 0.3), 0px 1px 3px 1px rgba(60, 64, 67, 0.15);\n",
              "      fill: #174EA6;\n",
              "    }\n",
              "\n",
              "    [theme=dark] .colab-df-convert {\n",
              "      background-color: #3B4455;\n",
              "      fill: #D2E3FC;\n",
              "    }\n",
              "\n",
              "    [theme=dark] .colab-df-convert:hover {\n",
              "      background-color: #434B5C;\n",
              "      box-shadow: 0px 1px 3px 1px rgba(0, 0, 0, 0.15);\n",
              "      filter: drop-shadow(0px 1px 2px rgba(0, 0, 0, 0.3));\n",
              "      fill: #FFFFFF;\n",
              "    }\n",
              "  </style>\n",
              "\n",
              "      <script>\n",
              "        const buttonEl =\n",
              "          document.querySelector('#df-078a1f1c-4a4b-4146-8364-2bc111d8fab7 button.colab-df-convert');\n",
              "        buttonEl.style.display =\n",
              "          google.colab.kernel.accessAllowed ? 'block' : 'none';\n",
              "\n",
              "        async function convertToInteractive(key) {\n",
              "          const element = document.querySelector('#df-078a1f1c-4a4b-4146-8364-2bc111d8fab7');\n",
              "          const dataTable =\n",
              "            await google.colab.kernel.invokeFunction('convertToInteractive',\n",
              "                                                     [key], {});\n",
              "          if (!dataTable) return;\n",
              "\n",
              "          const docLinkHtml = 'Like what you see? Visit the ' +\n",
              "            '<a target=\"_blank\" href=https://colab.research.google.com/notebooks/data_table.ipynb>data table notebook</a>'\n",
              "            + ' to learn more about interactive tables.';\n",
              "          element.innerHTML = '';\n",
              "          dataTable['output_type'] = 'display_data';\n",
              "          await google.colab.output.renderOutput(dataTable, element);\n",
              "          const docLink = document.createElement('div');\n",
              "          docLink.innerHTML = docLinkHtml;\n",
              "          element.appendChild(docLink);\n",
              "        }\n",
              "      </script>\n",
              "    </div>\n",
              "  </div>\n",
              "  "
            ],
            "text/plain": [
              "      RESP    PLETH         V       AVR        II  sec  Time [s]    HR  \\\n",
              "0  0.25806  0.59531  0.721570  0.859380 -0.058594    0     0.000  93.0   \n",
              "1  0.26393  0.59042  0.696080  0.695310 -0.029297    0     0.008  93.0   \n",
              "2  0.26979  0.58358  0.700000  0.455080  0.179690    0     0.016  93.0   \n",
              "3  0.27566  0.57771  0.329410  0.041016  0.843750    0     0.024  93.0   \n",
              "4  0.28250  0.57283  0.078431 -0.099609  1.318400    0     0.032  93.0   \n",
              "\n",
              "    PULSE   SpO2  ...   RESP_Kurt   PLETH_Kurt     V_Kurt   AVR_Kurt  \\\n",
              "0    92.0   96.0  ...   -1.400516    -1.087751  10.346496  13.159851   \n",
              "1    92.0   96.0  ...   -1.400516    -1.087751  10.346496  13.159851   \n",
              "2    92.0   96.0  ...   -1.400516    -1.087751  10.346496  13.159851   \n",
              "3    92.0   96.0  ...   -1.400516    -1.087751  10.346496  13.159851   \n",
              "4    92.0   96.0  ...   -1.400516    -1.087751  10.346496  13.159851   \n",
              "\n",
              "     II_Kurt   RESP_Skw   PLETH_Skw     V_Skw   AVR_Skw    II_Skw  \n",
              "0  13.949057  -0.242583    0.482318 -3.057577 -3.335702  3.582299  \n",
              "1  13.949057  -0.242583    0.482318 -3.057577 -3.335702  3.582299  \n",
              "2  13.949057  -0.242583    0.482318 -3.057577 -3.335702  3.582299  \n",
              "3  13.949057  -0.242583    0.482318 -3.057577 -3.335702  3.582299  \n",
              "4  13.949057  -0.242583    0.482318 -3.057577 -3.335702  3.582299  \n",
              "\n",
              "[5 rows x 35 columns]"
            ]
          },
          "execution_count": null,
          "metadata": {},
          "output_type": "execute_result"
        }
      ],
      "source": [
        "df.head()"
      ]
    },
    {
      "cell_type": "code",
      "execution_count": null,
      "metadata": {
        "colab": {
          "background_save": true
        },
        "id": "HJlVUC5mA1Lf",
        "outputId": "e74e7cae-70d5-4020-cfa4-5803623fdb4a"
      },
      "outputs": [
        {
          "data": {
            "text/plain": [
              " RESP          4.192024e-01\n",
              " PLETH         2.203819e+00\n",
              " V            -4.985248e-01\n",
              " AVR          -1.050338e+00\n",
              " II            5.745610e-01\n",
              "sec            3.514934e-07\n",
              "Time [s]      -1.008467e-09\n",
              " HR            4.258678e-01\n",
              " PULSE         4.590520e-01\n",
              " SpO2         -1.613989e+00\n",
              " RESP_Min      4.307843e-01\n",
              " PLETH_Min     2.087120e+00\n",
              " V_Min        -2.401510e-01\n",
              " AVR_Min      -1.886430e-01\n",
              " II_Min       -5.157483e-01\n",
              " RESP_Max     -1.193692e-01\n",
              " PLETH_Max     1.745141e+00\n",
              " V_Max         6.005654e-01\n",
              " AVR_Max       5.855848e-01\n",
              " II_Max       -5.038890e-01\n",
              " RESP_Mean     1.806233e-01\n",
              " PLETH_Mean    1.776977e+00\n",
              " V_Mean        5.762518e-02\n",
              " AVR_Mean     -9.595049e-01\n",
              " II_Mean       2.005228e-01\n",
              " RESP_Kurt     1.381080e+01\n",
              " PLETH_Kurt    5.244867e+01\n",
              " V_Kurt        1.032790e+00\n",
              " AVR_Kurt      1.366196e+00\n",
              " II_Kurt       1.218775e+00\n",
              " RESP_Skw      1.677525e-01\n",
              " PLETH_Skw    -5.334396e-02\n",
              " V_Skw         1.137635e+00\n",
              " AVR_Skw       7.869129e-01\n",
              " II_Skw       -1.008688e+00\n",
              "dtype: float64"
            ]
          },
          "execution_count": null,
          "metadata": {},
          "output_type": "execute_result"
        }
      ],
      "source": [
        "df.skew()"
      ]
    },
    {
      "cell_type": "code",
      "execution_count": null,
      "metadata": {
        "colab": {
          "background_save": true
        },
        "id": "jldMvdnSBC4I",
        "outputId": "ab57bc32-b77e-4d68-e491-60e1cb940689"
      },
      "outputs": [
        {
          "data": {
            "text/plain": [
              " RESP            -0.450148\n",
              " PLETH            4.207069\n",
              " V                2.821981\n",
              " AVR              2.302539\n",
              " II               1.375938\n",
              "sec              -1.200010\n",
              "Time [s]         -1.200000\n",
              " HR               0.554132\n",
              " PULSE            0.488867\n",
              " SpO2             3.837332\n",
              " RESP_Min         1.176281\n",
              " PLETH_Min        4.092246\n",
              " V_Min           -1.007683\n",
              " AVR_Min         -0.683209\n",
              " II_Min          -0.812655\n",
              " RESP_Max        -0.742010\n",
              " PLETH_Max        1.247532\n",
              " V_Max           -0.289003\n",
              " AVR_Max          0.828827\n",
              " II_Max          -0.018901\n",
              " RESP_Mean       -0.436095\n",
              " PLETH_Mean       1.467985\n",
              " V_Mean          -0.337448\n",
              " AVR_Mean         1.307881\n",
              " II_Mean          0.116161\n",
              " RESP_Kurt      242.807278\n",
              " PLETH_Kurt    5064.214479\n",
              " V_Kurt           3.728982\n",
              " AVR_Kurt         2.573467\n",
              " II_Kurt          3.197435\n",
              " RESP_Skw        16.033873\n",
              " PLETH_Skw       13.255848\n",
              " V_Skw            0.727473\n",
              " AVR_Skw         -0.173167\n",
              " II_Skw           1.241687\n",
              "dtype: float64"
            ]
          },
          "execution_count": null,
          "metadata": {},
          "output_type": "execute_result"
        }
      ],
      "source": [
        "df.kurtosis()"
      ]
    },
    {
      "cell_type": "code",
      "execution_count": null,
      "metadata": {
        "colab": {
          "background_save": true
        },
        "id": "eUq3qimXBJYA",
        "outputId": "4358c01d-0799-45e0-94e9-b7b0fb54c22c"
      },
      "outputs": [
        {
          "data": {
            "text/plain": [
              " RESP              0.146377\n",
              " PLETH             0.355242\n",
              " V                 0.067357\n",
              " AVR               0.066318\n",
              " II                0.098988\n",
              "sec            19200.553447\n",
              "Time [s]       19200.632870\n",
              " HR              187.537321\n",
              " PULSE           191.342042\n",
              " SpO2              9.342812\n",
              " RESP_Min          0.071071\n",
              " PLETH_Min         0.123409\n",
              " V_Min             0.150218\n",
              " AVR_Min           0.112223\n",
              " II_Min            0.088652\n",
              " RESP_Max          0.155801\n",
              " PLETH_Max         0.693855\n",
              " V_Max             0.072377\n",
              " AVR_Max           0.063201\n",
              " II_Max            0.111115\n",
              " RESP_Mean         0.111193\n",
              " PLETH_Mean        0.288203\n",
              " V_Mean            0.040514\n",
              " AVR_Mean          0.046934\n",
              " II_Mean           0.063853\n",
              " RESP_Kurt        32.428488\n",
              " PLETH_Kurt        0.995905\n",
              " V_Kurt           60.522381\n",
              " AVR_Kurt         61.223869\n",
              " II_Kurt          57.355994\n",
              " RESP_Skw          1.292868\n",
              " PLETH_Skw         0.191755\n",
              " V_Skw             5.152210\n",
              " AVR_Skw           4.290816\n",
              " II_Skw            3.132465\n",
              "dtype: float64"
            ]
          },
          "execution_count": null,
          "metadata": {},
          "output_type": "execute_result"
        }
      ],
      "source": [
        "df.var()"
      ]
    },
    {
      "cell_type": "code",
      "execution_count": null,
      "metadata": {
        "colab": {
          "background_save": true
        },
        "id": "cpsPhsZuwF6_",
        "outputId": "76eb529b-83a4-4621-a3c3-ea0dcc834c3c"
      },
      "outputs": [
        {
          "data": {
            "text/html": [
              "\n",
              "  <div id=\"df-6af29aff-e2ad-443f-99f0-f187e9e512e7\">\n",
              "    <div class=\"colab-df-container\">\n",
              "      <div>\n",
              "<style scoped>\n",
              "    .dataframe tbody tr th:only-of-type {\n",
              "        vertical-align: middle;\n",
              "    }\n",
              "\n",
              "    .dataframe tbody tr th {\n",
              "        vertical-align: top;\n",
              "    }\n",
              "\n",
              "    .dataframe thead th {\n",
              "        text-align: right;\n",
              "    }\n",
              "</style>\n",
              "<table border=\"1\" class=\"dataframe\">\n",
              "  <thead>\n",
              "    <tr style=\"text-align: right;\">\n",
              "      <th></th>\n",
              "      <th>RESP</th>\n",
              "      <th>PLETH</th>\n",
              "      <th>V</th>\n",
              "      <th>AVR</th>\n",
              "      <th>II</th>\n",
              "      <th>HR</th>\n",
              "      <th>PULSE</th>\n",
              "      <th>SpO2</th>\n",
              "      <th>PLETH_Min</th>\n",
              "      <th>V_Min</th>\n",
              "      <th>...</th>\n",
              "      <th>AVR_Mean</th>\n",
              "      <th>II_Mean</th>\n",
              "      <th>PLETH_Kurt</th>\n",
              "      <th>V_Kurt</th>\n",
              "      <th>AVR_Kurt</th>\n",
              "      <th>II_Kurt</th>\n",
              "      <th>PLETH_Skw</th>\n",
              "      <th>V_Skw</th>\n",
              "      <th>AVR_Skw</th>\n",
              "      <th>II_Skw</th>\n",
              "    </tr>\n",
              "  </thead>\n",
              "  <tbody>\n",
              "    <tr>\n",
              "      <th>0</th>\n",
              "      <td>0.24438</td>\n",
              "      <td>0.49658</td>\n",
              "      <td>0.56471</td>\n",
              "      <td>0.8</td>\n",
              "      <td>0.031250</td>\n",
              "      <td>66</td>\n",
              "      <td>66</td>\n",
              "      <td>100</td>\n",
              "      <td>0.32845</td>\n",
              "      <td>-0.50196</td>\n",
              "      <td>...</td>\n",
              "      <td>0.762964</td>\n",
              "      <td>0.147906</td>\n",
              "      <td>-0.434146</td>\n",
              "      <td>1.349437</td>\n",
              "      <td>4.023055</td>\n",
              "      <td>0.796755</td>\n",
              "      <td>0.882294</td>\n",
              "      <td>-0.477034</td>\n",
              "      <td>1.359572</td>\n",
              "      <td>0.291865</td>\n",
              "    </tr>\n",
              "    <tr>\n",
              "      <th>1</th>\n",
              "      <td>0.24438</td>\n",
              "      <td>0.49071</td>\n",
              "      <td>0.56471</td>\n",
              "      <td>0.8</td>\n",
              "      <td>0.035156</td>\n",
              "      <td>66</td>\n",
              "      <td>66</td>\n",
              "      <td>100</td>\n",
              "      <td>0.32845</td>\n",
              "      <td>-0.50196</td>\n",
              "      <td>...</td>\n",
              "      <td>0.762964</td>\n",
              "      <td>0.147906</td>\n",
              "      <td>-0.434146</td>\n",
              "      <td>1.349437</td>\n",
              "      <td>4.023055</td>\n",
              "      <td>0.796755</td>\n",
              "      <td>0.882294</td>\n",
              "      <td>-0.477034</td>\n",
              "      <td>1.359572</td>\n",
              "      <td>0.291865</td>\n",
              "    </tr>\n",
              "    <tr>\n",
              "      <th>2</th>\n",
              "      <td>0.24438</td>\n",
              "      <td>0.48485</td>\n",
              "      <td>0.57059</td>\n",
              "      <td>0.8</td>\n",
              "      <td>0.035156</td>\n",
              "      <td>66</td>\n",
              "      <td>66</td>\n",
              "      <td>100</td>\n",
              "      <td>0.32845</td>\n",
              "      <td>-0.50196</td>\n",
              "      <td>...</td>\n",
              "      <td>0.762964</td>\n",
              "      <td>0.147906</td>\n",
              "      <td>-0.434146</td>\n",
              "      <td>1.349437</td>\n",
              "      <td>4.023055</td>\n",
              "      <td>0.796755</td>\n",
              "      <td>0.882294</td>\n",
              "      <td>-0.477034</td>\n",
              "      <td>1.359572</td>\n",
              "      <td>0.291865</td>\n",
              "    </tr>\n",
              "    <tr>\n",
              "      <th>3</th>\n",
              "      <td>0.24438</td>\n",
              "      <td>0.47801</td>\n",
              "      <td>0.57451</td>\n",
              "      <td>0.8</td>\n",
              "      <td>0.035156</td>\n",
              "      <td>66</td>\n",
              "      <td>66</td>\n",
              "      <td>100</td>\n",
              "      <td>0.32845</td>\n",
              "      <td>-0.50196</td>\n",
              "      <td>...</td>\n",
              "      <td>0.762964</td>\n",
              "      <td>0.147906</td>\n",
              "      <td>-0.434146</td>\n",
              "      <td>1.349437</td>\n",
              "      <td>4.023055</td>\n",
              "      <td>0.796755</td>\n",
              "      <td>0.882294</td>\n",
              "      <td>-0.477034</td>\n",
              "      <td>1.359572</td>\n",
              "      <td>0.291865</td>\n",
              "    </tr>\n",
              "    <tr>\n",
              "      <th>4</th>\n",
              "      <td>0.24438</td>\n",
              "      <td>0.47116</td>\n",
              "      <td>0.58039</td>\n",
              "      <td>0.8</td>\n",
              "      <td>0.041016</td>\n",
              "      <td>66</td>\n",
              "      <td>66</td>\n",
              "      <td>100</td>\n",
              "      <td>0.32845</td>\n",
              "      <td>-0.50196</td>\n",
              "      <td>...</td>\n",
              "      <td>0.762964</td>\n",
              "      <td>0.147906</td>\n",
              "      <td>-0.434146</td>\n",
              "      <td>1.349437</td>\n",
              "      <td>4.023055</td>\n",
              "      <td>0.796755</td>\n",
              "      <td>0.882294</td>\n",
              "      <td>-0.477034</td>\n",
              "      <td>1.359572</td>\n",
              "      <td>0.291865</td>\n",
              "    </tr>\n",
              "  </tbody>\n",
              "</table>\n",
              "<p>5 rows × 28 columns</p>\n",
              "</div>\n",
              "      <button class=\"colab-df-convert\" onclick=\"convertToInteractive('df-6af29aff-e2ad-443f-99f0-f187e9e512e7')\"\n",
              "              title=\"Convert this dataframe to an interactive table.\"\n",
              "              style=\"display:none;\">\n",
              "        \n",
              "  <svg xmlns=\"http://www.w3.org/2000/svg\" height=\"24px\"viewBox=\"0 0 24 24\"\n",
              "       width=\"24px\">\n",
              "    <path d=\"M0 0h24v24H0V0z\" fill=\"none\"/>\n",
              "    <path d=\"M18.56 5.44l.94 2.06.94-2.06 2.06-.94-2.06-.94-.94-2.06-.94 2.06-2.06.94zm-11 1L8.5 8.5l.94-2.06 2.06-.94-2.06-.94L8.5 2.5l-.94 2.06-2.06.94zm10 10l.94 2.06.94-2.06 2.06-.94-2.06-.94-.94-2.06-.94 2.06-2.06.94z\"/><path d=\"M17.41 7.96l-1.37-1.37c-.4-.4-.92-.59-1.43-.59-.52 0-1.04.2-1.43.59L10.3 9.45l-7.72 7.72c-.78.78-.78 2.05 0 2.83L4 21.41c.39.39.9.59 1.41.59.51 0 1.02-.2 1.41-.59l7.78-7.78 2.81-2.81c.8-.78.8-2.07 0-2.86zM5.41 20L4 18.59l7.72-7.72 1.47 1.35L5.41 20z\"/>\n",
              "  </svg>\n",
              "      </button>\n",
              "      \n",
              "  <style>\n",
              "    .colab-df-container {\n",
              "      display:flex;\n",
              "      flex-wrap:wrap;\n",
              "      gap: 12px;\n",
              "    }\n",
              "\n",
              "    .colab-df-convert {\n",
              "      background-color: #E8F0FE;\n",
              "      border: none;\n",
              "      border-radius: 50%;\n",
              "      cursor: pointer;\n",
              "      display: none;\n",
              "      fill: #1967D2;\n",
              "      height: 32px;\n",
              "      padding: 0 0 0 0;\n",
              "      width: 32px;\n",
              "    }\n",
              "\n",
              "    .colab-df-convert:hover {\n",
              "      background-color: #E2EBFA;\n",
              "      box-shadow: 0px 1px 2px rgba(60, 64, 67, 0.3), 0px 1px 3px 1px rgba(60, 64, 67, 0.15);\n",
              "      fill: #174EA6;\n",
              "    }\n",
              "\n",
              "    [theme=dark] .colab-df-convert {\n",
              "      background-color: #3B4455;\n",
              "      fill: #D2E3FC;\n",
              "    }\n",
              "\n",
              "    [theme=dark] .colab-df-convert:hover {\n",
              "      background-color: #434B5C;\n",
              "      box-shadow: 0px 1px 3px 1px rgba(0, 0, 0, 0.15);\n",
              "      filter: drop-shadow(0px 1px 2px rgba(0, 0, 0, 0.3));\n",
              "      fill: #FFFFFF;\n",
              "    }\n",
              "  </style>\n",
              "\n",
              "      <script>\n",
              "        const buttonEl =\n",
              "          document.querySelector('#df-6af29aff-e2ad-443f-99f0-f187e9e512e7 button.colab-df-convert');\n",
              "        buttonEl.style.display =\n",
              "          google.colab.kernel.accessAllowed ? 'block' : 'none';\n",
              "\n",
              "        async function convertToInteractive(key) {\n",
              "          const element = document.querySelector('#df-6af29aff-e2ad-443f-99f0-f187e9e512e7');\n",
              "          const dataTable =\n",
              "            await google.colab.kernel.invokeFunction('convertToInteractive',\n",
              "                                                     [key], {});\n",
              "          if (!dataTable) return;\n",
              "\n",
              "          const docLinkHtml = 'Like what you see? Visit the ' +\n",
              "            '<a target=\"_blank\" href=https://colab.research.google.com/notebooks/data_table.ipynb>data table notebook</a>'\n",
              "            + ' to learn more about interactive tables.';\n",
              "          element.innerHTML = '';\n",
              "          dataTable['output_type'] = 'display_data';\n",
              "          await google.colab.output.renderOutput(dataTable, element);\n",
              "          const docLink = document.createElement('div');\n",
              "          docLink.innerHTML = docLinkHtml;\n",
              "          element.appendChild(docLink);\n",
              "        }\n",
              "      </script>\n",
              "    </div>\n",
              "  </div>\n",
              "  "
            ],
            "text/plain": [
              "      RESP    PLETH        V   AVR        II   HR   PULSE   SpO2   PLETH_Min  \\\n",
              "0  0.24438  0.49658  0.56471   0.8  0.031250   66      66    100     0.32845   \n",
              "1  0.24438  0.49071  0.56471   0.8  0.035156   66      66    100     0.32845   \n",
              "2  0.24438  0.48485  0.57059   0.8  0.035156   66      66    100     0.32845   \n",
              "3  0.24438  0.47801  0.57451   0.8  0.035156   66      66    100     0.32845   \n",
              "4  0.24438  0.47116  0.58039   0.8  0.041016   66      66    100     0.32845   \n",
              "\n",
              "     V_Min  ...   AVR_Mean   II_Mean   PLETH_Kurt    V_Kurt   AVR_Kurt  \\\n",
              "0 -0.50196  ...   0.762964  0.147906    -0.434146  1.349437   4.023055   \n",
              "1 -0.50196  ...   0.762964  0.147906    -0.434146  1.349437   4.023055   \n",
              "2 -0.50196  ...   0.762964  0.147906    -0.434146  1.349437   4.023055   \n",
              "3 -0.50196  ...   0.762964  0.147906    -0.434146  1.349437   4.023055   \n",
              "4 -0.50196  ...   0.762964  0.147906    -0.434146  1.349437   4.023055   \n",
              "\n",
              "    II_Kurt   PLETH_Skw     V_Skw   AVR_Skw    II_Skw  \n",
              "0  0.796755    0.882294 -0.477034  1.359572  0.291865  \n",
              "1  0.796755    0.882294 -0.477034  1.359572  0.291865  \n",
              "2  0.796755    0.882294 -0.477034  1.359572  0.291865  \n",
              "3  0.796755    0.882294 -0.477034  1.359572  0.291865  \n",
              "4  0.796755    0.882294 -0.477034  1.359572  0.291865  \n",
              "\n",
              "[5 rows x 28 columns]"
            ]
          },
          "execution_count": null,
          "metadata": {},
          "output_type": "execute_result"
        }
      ],
      "source": [
        "\n",
        "import pandas as pd\n",
        "import matplotlib.pyplot as plt\n",
        "from sklearn.preprocessing import StandardScaler\n",
        "import warnings\n",
        "warnings.filterwarnings('ignore')\n",
        "\n",
        "data = pd.read_csv('person_csvs/person_13.csv',index_col=0)\n",
        "resp = [i for i in data.columns if 'RESP' in i and i!=' RESP']\n",
        "data.drop(resp+['Time [s]','sec'],axis=1,inplace=True)\n",
        "data.head()"
      ]
    },
    {
      "cell_type": "code",
      "execution_count": null,
      "metadata": {
        "colab": {
          "background_save": true
        },
        "id": "jdDgkgWMBOHp",
        "outputId": "8cbac457-d074-4553-b0c2-4fe58a6094d5"
      },
      "outputs": [
        {
          "data": {
            "text/plain": [
              " RESP            0.322684\n",
              " PLETH           0.707487\n",
              " V               0.659782\n",
              " AVR             0.590362\n",
              " II              0.370952\n",
              "sec            239.503919\n",
              "Time [s]       239.999911\n",
              " HR             89.940335\n",
              " PULSE          89.390672\n",
              " SpO2           96.990535\n",
              " RESP_Min        0.103401\n",
              " PLETH_Min       0.463537\n",
              " V_Min           0.086687\n",
              " AVR_Min         0.047195\n",
              " II_Min          0.067534\n",
              " RESP_Max        0.557117\n",
              " PLETH_Max       1.061127\n",
              " V_Max           0.894598\n",
              " AVR_Max         0.843320\n",
              " II_Max          1.082653\n",
              " RESP_Mean       0.322684\n",
              " PLETH_Mean      0.707487\n",
              " V_Mean          0.659782\n",
              " AVR_Mean        0.590362\n",
              " II_Mean         0.370952\n",
              " RESP_Kurt       0.075116\n",
              " PLETH_Kurt     -0.842030\n",
              " V_Kurt         11.679530\n",
              " AVR_Kurt       11.308892\n",
              " II_Kurt        10.080501\n",
              " RESP_Skw        0.153418\n",
              " PLETH_Skw       0.512563\n",
              " V_Skw          -2.067256\n",
              " AVR_Skw        -1.987537\n",
              " II_Skw          2.075529\n",
              "dtype: float64"
            ]
          },
          "execution_count": null,
          "metadata": {},
          "output_type": "execute_result"
        }
      ],
      "source": [
        "df.mean()"
      ]
    },
    {
      "cell_type": "code",
      "execution_count": null,
      "metadata": {
        "colab": {
          "background_save": true
        },
        "id": "TH6KISn1BSER",
        "outputId": "4416c832-8285-467c-a397-501427925062"
      },
      "outputs": [
        {
          "data": {
            "text/plain": [
              " RESP            0.240470\n",
              " PLETH           0.485830\n",
              " V               0.641180\n",
              " AVR             0.625490\n",
              " II              0.380390\n",
              "sec            240.000000\n",
              "Time [s]       240.000000\n",
              " HR             90.000000\n",
              " PULSE          89.000000\n",
              " SpO2           98.000000\n",
              " RESP_Min        0.095797\n",
              " PLETH_Min       0.337240\n",
              " V_Min           0.160160\n",
              " AVR_Min         0.144530\n",
              " II_Min          0.119610\n",
              " RESP_Max        0.545450\n",
              " PLETH_Max       0.711630\n",
              " V_Max           0.830080\n",
              " AVR_Max         0.786270\n",
              " II_Max          1.066700\n",
              " RESP_Mean       0.268285\n",
              " PLETH_Mean      0.477650\n",
              " V_Mean          0.633610\n",
              " AVR_Mean        0.609211\n",
              " II_Mean         0.390062\n",
              " RESP_Kurt      -0.892702\n",
              " PLETH_Kurt     -1.005125\n",
              " V_Kurt         10.319292\n",
              " AVR_Kurt        9.953412\n",
              " II_Kurt         8.710419\n",
              " RESP_Skw        0.138557\n",
              " PLETH_Skw       0.514979\n",
              " V_Skw          -2.758062\n",
              " AVR_Skw        -2.637218\n",
              " II_Skw          2.498663\n",
              "dtype: float64"
            ]
          },
          "execution_count": null,
          "metadata": {},
          "output_type": "execute_result"
        }
      ],
      "source": [
        "df.median()"
      ]
    },
    {
      "cell_type": "code",
      "execution_count": null,
      "metadata": {
        "colab": {
          "background_save": true
        },
        "id": "SrSLJYTMBaKg",
        "outputId": "3da8fa8d-cd24-4af2-bec5-ef6b57ad7536"
      },
      "outputs": [
        {
          "data": {
            "text/plain": [
              " RESP            0.043988\n",
              " PLETH           0.385140\n",
              " V               0.509780\n",
              " AVR             0.474510\n",
              " II              0.156250\n",
              "sec            120.000000\n",
              "Time [s]       120.000000\n",
              " HR             82.000000\n",
              " PULSE          81.000000\n",
              " SpO2           95.000000\n",
              " RESP_Min       -0.000489\n",
              " PLETH_Min       0.263930\n",
              " V_Min          -0.207840\n",
              " AVR_Min        -0.234860\n",
              " II_Min         -0.169920\n",
              " RESP_Max        0.261000\n",
              " PLETH_Max       0.630500\n",
              " V_Max           0.689450\n",
              " AVR_Max         0.685550\n",
              " II_Max          0.825490\n",
              " RESP_Mean       0.101577\n",
              " PLETH_Mean      0.438264\n",
              " V_Mean          0.511202\n",
              " AVR_Mean        0.501683\n",
              " II_Mean         0.204343\n",
              " RESP_Kurt      -1.309480\n",
              " PLETH_Kurt     -1.282578\n",
              " V_Kurt          6.528733\n",
              " AVR_Kurt        5.883146\n",
              " II_Kurt         5.067424\n",
              " RESP_Skw       -0.382570\n",
              " PLETH_Skw       0.239159\n",
              " V_Skw          -3.460764\n",
              " AVR_Skw        -3.330195\n",
              " II_Skw          1.144639\n",
              "Name: 0.25, dtype: float64"
            ]
          },
          "execution_count": null,
          "metadata": {},
          "output_type": "execute_result"
        }
      ],
      "source": [
        "df.quantile(0.25)"
      ]
    },
    {
      "cell_type": "code",
      "execution_count": null,
      "metadata": {
        "colab": {
          "background_save": true
        },
        "id": "nOzsPMe-BdGF",
        "outputId": "db0f0209-95f7-4ff9-fb32-dbb1402d1324"
      },
      "outputs": [
        {
          "data": {
            "text/plain": [
              " RESP            0.240470\n",
              " PLETH           0.485830\n",
              " V               0.641180\n",
              " AVR             0.625490\n",
              " II              0.380390\n",
              "sec            240.000000\n",
              "Time [s]       240.000000\n",
              " HR             90.000000\n",
              " PULSE          89.000000\n",
              " SpO2           98.000000\n",
              " RESP_Min        0.095797\n",
              " PLETH_Min       0.337240\n",
              " V_Min           0.160160\n",
              " AVR_Min         0.144530\n",
              " II_Min          0.119610\n",
              " RESP_Max        0.545450\n",
              " PLETH_Max       0.711630\n",
              " V_Max           0.830080\n",
              " AVR_Max         0.786270\n",
              " II_Max          1.066700\n",
              " RESP_Mean       0.268285\n",
              " PLETH_Mean      0.477650\n",
              " V_Mean          0.633610\n",
              " AVR_Mean        0.609211\n",
              " II_Mean         0.390062\n",
              " RESP_Kurt      -0.892702\n",
              " PLETH_Kurt     -1.005125\n",
              " V_Kurt         10.319292\n",
              " AVR_Kurt        9.953412\n",
              " II_Kurt         8.710419\n",
              " RESP_Skw        0.138557\n",
              " PLETH_Skw       0.514979\n",
              " V_Skw          -2.758062\n",
              " AVR_Skw        -2.637218\n",
              " II_Skw          2.498663\n",
              "Name: 0.5, dtype: float64"
            ]
          },
          "execution_count": null,
          "metadata": {},
          "output_type": "execute_result"
        }
      ],
      "source": [
        "df.quantile(0.5)"
      ]
    },
    {
      "cell_type": "code",
      "execution_count": null,
      "metadata": {
        "colab": {
          "background_save": true
        },
        "id": "k-eT3PZIBjiC",
        "outputId": "1fd63839-ca41-4da9-b710-ad30d58f6383"
      },
      "outputs": [
        {
          "data": {
            "text/plain": [
              " RESP            0.577710\n",
              " PLETH           0.659820\n",
              " V               0.844730\n",
              " AVR             0.745100\n",
              " II              0.545100\n",
              "sec            360.000000\n",
              "Time [s]       360.000000\n",
              " HR             96.000000\n",
              " PULSE          95.000000\n",
              " SpO2          100.000000\n",
              " RESP_Min        0.222870\n",
              " PLETH_Min       0.414470\n",
              " V_Min           0.394120\n",
              " AVR_Min         0.304690\n",
              " II_Min          0.319960\n",
              " RESP_Max        1.000000\n",
              " PLETH_Max       0.773220\n",
              " V_Max           1.076500\n",
              " AVR_Max         0.990230\n",
              " II_Max          1.408200\n",
              " RESP_Mean       0.560454\n",
              " PLETH_Mean      0.525935\n",
              " V_Mean          0.832341\n",
              " AVR_Mean        0.721567\n",
              " II_Mean         0.512812\n",
              " RESP_Kurt      -0.035086\n",
              " PLETH_Kurt     -0.578870\n",
              " V_Kurt         15.798374\n",
              " AVR_Kurt       14.490913\n",
              " II_Kurt        13.830726\n",
              " RESP_Skw        0.712598\n",
              " PLETH_Skw       0.795111\n",
              " V_Skw          -1.070467\n",
              " AVR_Skw        -0.847557\n",
              " II_Skw          3.202370\n",
              "Name: 0.75, dtype: float64"
            ]
          },
          "execution_count": null,
          "metadata": {},
          "output_type": "execute_result"
        }
      ],
      "source": [
        "df.quantile(0.75)"
      ]
    },
    {
      "cell_type": "code",
      "execution_count": null,
      "metadata": {
        "colab": {
          "background_save": true
        },
        "id": "RS09iLV2Bq4c",
        "outputId": "84afe086-f730-4df7-be60-cccb7c614ee7"
      },
      "outputs": [
        {
          "data": {
            "text/plain": [
              " RESP            0.382592\n",
              " PLETH           0.596022\n",
              " V               0.259533\n",
              " AVR             0.257524\n",
              " II              0.314624\n",
              "sec            138.566062\n",
              "Time [s]       138.566348\n",
              " HR             13.694427\n",
              " PULSE          13.832644\n",
              " SpO2            3.056601\n",
              " RESP_Min        0.266592\n",
              " PLETH_Min       0.351296\n",
              " V_Min           0.387580\n",
              " AVR_Min         0.334997\n",
              " II_Min          0.297745\n",
              " RESP_Max        0.394716\n",
              " PLETH_Max       0.832980\n",
              " V_Max           0.269029\n",
              " AVR_Max         0.251398\n",
              " II_Max          0.333339\n",
              " RESP_Mean       0.333456\n",
              " PLETH_Mean      0.536846\n",
              " V_Mean          0.201281\n",
              " AVR_Mean        0.216643\n",
              " II_Mean         0.252691\n",
              " RESP_Kurt       5.694602\n",
              " PLETH_Kurt      0.997950\n",
              " V_Kurt          7.779613\n",
              " AVR_Kurt        7.824568\n",
              " II_Kurt         7.573374\n",
              " RESP_Skw        1.137043\n",
              " PLETH_Skw       0.437898\n",
              " V_Skw           2.269848\n",
              " AVR_Skw         2.071428\n",
              " II_Skw          1.769877\n",
              "dtype: float64"
            ]
          },
          "execution_count": null,
          "metadata": {},
          "output_type": "execute_result"
        }
      ],
      "source": [
        "df.std()"
      ]
    },
    {
      "cell_type": "code",
      "execution_count": null,
      "metadata": {
        "id": "IdKhoimXBwBE"
      },
      "outputs": [],
      "source": [
        "df.corr()"
      ]
    },
    {
      "cell_type": "code",
      "execution_count": null,
      "metadata": {
        "colab": {
          "background_save": true
        },
        "id": "RwrZ8m5-B7wk",
        "outputId": "1053feba-aea5-48fa-d9b6-e152aaaf9c78"
      },
      "outputs": [
        {
          "ename": "AttributeError",
          "evalue": "ignored",
          "output_type": "error",
          "traceback": [
            "\u001b[0;31m---------------------------------------------------------------------------\u001b[0m",
            "\u001b[0;31mAttributeError\u001b[0m                            Traceback (most recent call last)",
            "\u001b[0;32m<ipython-input-46-fb3071141863>\u001b[0m in \u001b[0;36m<module>\u001b[0;34m()\u001b[0m\n\u001b[1;32m      3\u001b[0m \u001b[0mplt\u001b[0m\u001b[0;34m.\u001b[0m\u001b[0myticks\u001b[0m\u001b[0;34m(\u001b[0m\u001b[0mweight\u001b[0m\u001b[0;34m=\u001b[0m\u001b[0;34m\"bold\"\u001b[0m\u001b[0;34m)\u001b[0m\u001b[0;34m\u001b[0m\u001b[0;34m\u001b[0m\u001b[0m\n\u001b[1;32m      4\u001b[0m \u001b[0mplt\u001b[0m\u001b[0;34m.\u001b[0m\u001b[0mgrid\u001b[0m\u001b[0;34m(\u001b[0m\u001b[0;34m)\u001b[0m\u001b[0;34m\u001b[0m\u001b[0;34m\u001b[0m\u001b[0m\n\u001b[0;32m----> 5\u001b[0;31m \u001b[0msns\u001b[0m\u001b[0;34m.\u001b[0m\u001b[0mboxplot\u001b[0m\u001b[0;34m(\u001b[0m\u001b[0mdf\u001b[0m\u001b[0;34m[\u001b[0m\u001b[0;34m' RESP'\u001b[0m\u001b[0;34m]\u001b[0m\u001b[0;34m)\u001b[0m\u001b[0;34m.\u001b[0m\u001b[0mset_fontsize\u001b[0m\u001b[0;34m(\u001b[0m\u001b[0;34m'18'\u001b[0m\u001b[0;34m)\u001b[0m\u001b[0;34m\u001b[0m\u001b[0;34m\u001b[0m\u001b[0m\n\u001b[0m\u001b[1;32m      6\u001b[0m \u001b[0;34m\u001b[0m\u001b[0m\n\u001b[1;32m      7\u001b[0m \u001b[0mplt\u001b[0m\u001b[0;34m.\u001b[0m\u001b[0mshow\u001b[0m\u001b[0;34m(\u001b[0m\u001b[0;34m)\u001b[0m\u001b[0;34m\u001b[0m\u001b[0;34m\u001b[0m\u001b[0m\n",
            "\u001b[0;31mAttributeError\u001b[0m: 'AxesSubplot' object has no attribute 'set_fontsize'"
          ]
        },
        {
          "data": {
            "image/png": "[encoded data removed]",
            "text/plain": [
              "<Figure size 432x288 with 1 Axes>"
            ]
          },
          "metadata": {},
          "output_type": "display_data"
        }
      ],
      "source": [
        "import seaborn as sns\n",
        "plt.xticks(weight=\"bold\")\n",
        "plt.yticks(weight=\"bold\")\n",
        "plt.grid()\n",
        "sns.boxplot(df[' RESP']).set_fontsize('18')\n",
        "\n",
        "plt.show()"
      ]
    },
    {
      "cell_type": "code",
      "execution_count": null,
      "metadata": {
        "colab": {
          "background_save": true
        },
        "id": "myPkVVMSCjrC"
      },
      "outputs": [],
      "source": [
        "plt.xticks(weight=\"bold\")\n",
        "plt.yticks(weight=\"bold\")\n",
        "plt.grid()\n",
        "\n",
        "sns.distplot(df[' RESP'],hist=None)\n",
        "plt.show()"
      ]
    },
    {
      "cell_type": "code",
      "execution_count": null,
      "metadata": {
        "colab": {
          "background_save": true
        },
        "id": "CTt0jaBWD6Fa"
      },
      "outputs": [],
      "source": [
        "plt.xticks(weight=\"bold\")\n",
        "plt.yticks(weight=\"bold\")\n",
        "plt.grid()\n",
        "sns.histplot(df[' RESP'])\n",
        "plt.show()"
      ]
    },
    {
      "cell_type": "code",
      "execution_count": null,
      "metadata": {
        "colab": {
          "background_save": true
        },
        "id": "R49E9Tc4xz8I"
      },
      "outputs": [],
      "source": [
        "from sklearn.preprocessing import StandardScaler\n",
        "SS = StandardScaler()\n",
        "X = data.drop(' RESP',axis=1)\n",
        "SS.fit(X,y=None)\n",
        "y = data[' RESP'].values\n",
        "X = SS.transform(X)"
      ]
    },
    {
      "cell_type": "code",
      "execution_count": null,
      "metadata": {
        "colab": {
          "background_save": true
        },
        "id": "8yInZygp7mSP"
      },
      "outputs": [],
      "source": [
        "pip install catboost"
      ]
    },
    {
      "cell_type": "code",
      "execution_count": null,
      "metadata": {
        "colab": {
          "background_save": true
        },
        "id": "C2Y4EFtpx4IC"
      },
      "outputs": [],
      "source": [
        "import time\n",
        "import numpy as np\n",
        "from xgboost import XGBRegressor\n",
        "import catboost\n",
        "from catboost import CatBoostRegressor\n",
        "from sklearn.metrics import r2_score,mean_squared_error,mean_absolute_error\n",
        "from sklearn.linear_model import Lasso,Ridge,ElasticNet, BayesianRidge, LinearRegression\n",
        "from sklearn.tree import DecisionTreeRegressor\n",
        "from sklearn import neighbors\n",
        "from sklearn.ensemble import RandomForestRegressor\n",
        "from sklearn.model_selection import train_test_split\n",
        "import warnings\n",
        "warnings.filterwarnings('ignore')\n",
        "\n",
        "models = {'DT':DecisionTreeRegressor(),'ElasticNet':ElasticNet(),\n",
        "         'KNN':neighbors.KNeighborsRegressor(),\n",
        "         'rff':RandomForestRegressor(), 'xgb':XGBRegressor(),\"CB\":CatBoostRegressor()}\n",
        "\n",
        "\n",
        "\n",
        "\n",
        "def model_performance(X,y):\n",
        "    times =[]\n",
        "    keys = []\n",
        "    mean_squared_errors = []\n",
        "    mean_abs_error = []\n",
        "    R2_scores = []\n",
        "    X_train, X_test, y_train, y_test = train_test_split(X, y, test_size=0.10, random_state=10)\n",
        "\n",
        "    for k,v in models.items():\n",
        "        model = v\n",
        "        t0=time.time()\n",
        "        model.fit(X_train, y_train)\n",
        "        train_time = time.time()-t0\n",
        "        t1 = time.time()\n",
        "        pred = model.predict(X_test)\n",
        "        predict_time = time.time()-t1\n",
        "        pred = pd.Series(pred)\n",
        "        Time_total = train_time+predict_time\n",
        "        times.append(Time_total)\n",
        "        R2_scores.append(r2_score(y_test,pred))\n",
        "        mean_squared_errors.append(mean_squared_error(y_test,pred))\n",
        "        mean_abs_error.append(mean_absolute_error(y_test,pred))\n",
        "        keys.append(k)\n",
        "    table = pd.DataFrame({'model':keys, 'RMSE':mean_squared_errors,'MAE':mean_abs_error,'R2 score':R2_scores,'time':times})\n",
        "    table['RMSE'] = table['RMSE'].apply(lambda x: np.sqrt(x))\n",
        "    return table\n",
        "\n",
        "model_performance(X,y)"
      ]
    },
    {
      "cell_type": "code",
      "execution_count": null,
      "metadata": {
        "id": "I2ISqQLe18Qy"
      },
      "outputs": [],
      "source": [
        "\n",
        "X = data.drop(' RESP',axis=1)"
      ]
    },
    {
      "cell_type": "code",
      "execution_count": null,
      "metadata": {
        "colab": {
          "background_save": true
        },
        "id": "U-AKmXFFW9nm"
      },
      "outputs": [],
      "source": [
        "SS = StandardScaler()\n",
        "X = data.drop(' RESP', axis=1)\n",
        "columns = X.columns\n",
        "SS.fit(X, y=None)\n",
        "y = data[' RESP'].values\n",
        "X = SS.transform(X)\n",
        "X_train, X_test, y_train, y_test = train_test_split(X, y, test_size=0.3, random_state=10)\n",
        "# Uncomment this line and comment the two below it if you wish to load a model\n",
        "# model = load('saved_models/RFF_joblib')\n",
        "model = RandomForestRegressor()\n",
        "model.fit(X_train, y_train)\n",
        "\n",
        "y_pred_train = model.predict(X_train)\n",
        "y_pred = model.predict(X_test)\n",
        "MSE = mean_squared_error(y_test, y_pred)\n",
        "MAE = mean_absolute_error(y_test, y_pred)\n",
        "R2 = r2_score(y_test, y_pred)\n",
        "print('MSE:', MSE)\n",
        "print('MAE:',MAE)\n",
        "print('r2:',R2)"
      ]
    },
    {
      "cell_type": "code",
      "execution_count": null,
      "metadata": {
        "id": "RIWpQU_FPomU"
      },
      "outputs": [],
      "source": [
        "plt.rcParams.update({'font.size':20})\n",
        "plt.scatter(y_test, y_pred, color = 'blue')\n",
        "plt.xticks(weight=\"bold\")\n",
        "plt.yticks(weight=\"bold\")\n",
        "plt.legend([\"r-squared = {:.3f}\".format(r2_score(y_test, y_pred))],bbox_to_anchor =(0.7, 1.25), ncol = 2)\n",
        "plt.grid()\n",
        "plt.show()"
      ]
    },
    {
      "cell_type": "code",
      "execution_count": null,
      "metadata": {
        "id": "PcrWtX8BR9ts"
      },
      "outputs": [],
      "source": [
        "regressor = DecisionTreeRegressor()\n",
        "regressor.fit(X_train, y_train)\n",
        "y_pred_train = regressor.predict(X_train)\n",
        "y_pred = regressor.predict(X_test)\n",
        "MSE = mean_squared_error(y_test, y_pred)\n",
        "MAE = mean_absolute_error(y_test, y_pred)\n",
        "R2 = r2_score(y_test, y_pred)\n",
        "print('MSE:', MSE)\n",
        "print('MAE:',MAE)\n",
        "print('r2:',R2)"
      ]
    },
    {
      "cell_type": "code",
      "execution_count": null,
      "metadata": {
        "id": "Vma7gnnCTIYg"
      },
      "outputs": [],
      "source": [
        "plt.rcParams.update({'font.size':20})\n",
        "plt.scatter(y_test, y_pred, color = 'blue')\n",
        "plt.xticks(weight=\"bold\")\n",
        "plt.yticks(weight=\"bold\")\n",
        "plt.legend([\"r-squared = {:.3f}\".format(r2_score(y_test, y_pred))],bbox_to_anchor =(0.7, 1.25), ncol = 2)\n",
        "plt.grid()\n",
        "plt.show()"
      ]
    },
    {
      "cell_type": "code",
      "execution_count": null,
      "metadata": {
        "id": "ypS_e_wGUBcq"
      },
      "outputs": [],
      "source": [
        "cregressor = CatBoostRegressor()\n",
        "cregressor.fit(X_train, y_train)\n",
        "y_pred_train = cregressor.predict(X_train)\n",
        "y_pred = cregressor.predict(X_test)\n",
        "MSE = mean_squared_error(y_test, y_pred)\n",
        "MAE = mean_absolute_error(y_test, y_pred)\n",
        "R2 = r2_score(y_test, y_pred)\n",
        "print('MSE:', MSE)\n",
        "print('MAE:',MAE)\n",
        "print('r2:',R2)"
      ]
    },
    {
      "cell_type": "code",
      "execution_count": null,
      "metadata": {
        "id": "B8NgaxnIUfMy"
      },
      "outputs": [],
      "source": [
        "plt.rcParams.update({'font.size':20})\n",
        "plt.scatter(y_test, y_pred, color = 'blue')\n",
        "plt.xticks(weight=\"bold\")\n",
        "plt.yticks(weight=\"bold\")\n",
        "plt.legend([\"r-squared = {:.3f}\".format(r2_score(y_test, y_pred))],bbox_to_anchor =(0.7, 1.25), ncol = 2)\n",
        "plt.grid()\n",
        "plt.show()"
      ]
    },
    {
      "cell_type": "code",
      "execution_count": null,
      "metadata": {
        "id": "OusDbbJK6sty"
      },
      "outputs": [],
      "source": [
        "X = pd.DataFrame(X, columns=columns)\n",
        "\n",
        "importances = model.feature_importances_\n",
        "std = np.std([model.feature_importances_ for tree in model.estimators_], axis=0)\n",
        "indices = np.argsort(importances)[::-1]\n",
        "\n",
        "# Print the feature ranking\n",
        "print(\"Feature ranking:\")\n",
        "feature_importances = []\n",
        "for f in range(X.shape[1]):\n",
        "    print(\"%d. %s (%f)\" % (f + 1, X.columns[indices[f]], importances[indices[f]]))\n",
        "    feature_importances.append((X.columns[indices[f]], importances[indices[f]]))\n",
        "\n",
        "values = [i[1] for i in feature_importances]\n",
        "names = [i[0] for i in feature_importances]\n",
        "\n",
        "# Plot the feature importances of the forest\n",
        "import matplotlib.pyplot as plt\n",
        "plt.figure(figsize=(20,12))\n",
        "plt.title(\"Random Forest Feature Importances\", fontsize=30)\n",
        "plt.barh(range(len(names)), values, color=\"r\", yerr=std[indices], align=\"center\")\n",
        "plt.yticks(range(len(names)), names, fontsize=15,weight=\"bold\")\n",
        "plt.xticks(np.linspace(0, max(importances), 30), rotation=45,weight=\"bold\")\n",
        "plt.show()\n",
        " "
      ]
    },
    {
      "cell_type": "code",
      "execution_count": null,
      "metadata": {
        "id": "wT1l17vD8LEJ"
      },
      "outputs": [],
      "source": [
        "from xgboost import plot_importance\n",
        "from xgboost import XGBRegressor\n",
        "xgb=XGBRegressor()\n",
        "xgb.fit(X_train, y_train)\n",
        "plot_importance(xgb)\n",
        "plt.show()"
      ]
    },
    {
      "cell_type": "code",
      "execution_count": null,
      "metadata": {
        "id": "kg5dKd7m8swx"
      },
      "outputs": [],
      "source": [
        "from sklearn.feature_selection import  SelectFromModel\n",
        "selection = SelectFromModel(xgb, prefit=True)\n",
        "select_X_train = selection.transform(X_train)\n",
        "# train model\n",
        "selection_model = XGBRegressor()\n",
        "selection_model.fit(select_X_train, y_train)\n",
        "# eval model\n",
        "select_X_test = selection.transform(X_test)\n",
        "y_pred = selection_model.predict(select_X_test)"
      ]
    },
    {
      "cell_type": "code",
      "execution_count": null,
      "metadata": {
        "id": "uXOFliXi_8Zk"
      },
      "outputs": [],
      "source": [
        "params = {'gamma': [0,0.1,0.2,0.4,0.8,1.6,3.2,6.4,12.8,25.6,51.2,102.4, 200],\n",
        "              'learning_rate': [0.01, 0.03, 0.06, 0.1, 0.15, 0.2, 0.25, 0.3, 0.4, 0.5, 0.6, 0.7],\n",
        "              'max_depth': [5,6,7,8,9,10,11,12,13,14],\n",
        "              'n_estimators': [50,65,80,100,115,130,150],\n",
        "               \"min_child_weight\" : [ 1, 3, 5, 7 ],\n",
        "                \"colsample_bytree\" : [ 0.3, 0.4, 0.5 ,0.55,0.6, 0.7 ],\n",
        "              'reg_alpha': [0,0.1,0.2,0.4,0.8,1.6,3.2,6.4,12.8,25.6,51.2,102.4,200],\n",
        "              'reg_lambda': [0,0.1,0.2,0.4,0.8,1.6,3.2,6.4,12.8,25.6,51.2,102.4,200]}"
      ]
    },
    {
      "cell_type": "code",
      "execution_count": null,
      "metadata": {
        "id": "CsSPJh40BuaH"
      },
      "outputs": [],
      "source": [
        "\n",
        "from sklearn.model_selection import RandomizedSearchCV\n",
        "random_search=RandomizedSearchCV(xgb,param_distributions=params,n_iter=5,n_jobs=-1,cv=5,verbose=3, error_score = 'raise')\n",
        "random_search.fit(X_train,y_train)"
      ]
    }
  ],
  "metadata": {
    "colab": {
      "provenance": []
    },
    "kernelspec": {
      "display_name": "Python 3",
      "name": "python3"
    },
    "language_info": {
      "name": "python"
    }
  },
  "nbformat": 4,
  "nbformat_minor": 0
}